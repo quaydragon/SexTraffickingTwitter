{
 "cells": [
  {
   "cell_type": "code",
   "execution_count": 2,
   "metadata": {},
   "outputs": [],
   "source": [
    "import numpy as np\n",
    "import pandas as pd"
   ]
  },
  {
   "cell_type": "markdown",
   "metadata": {},
   "source": [
    "<h2> Pulling Data </h2>"
   ]
  },
  {
   "cell_type": "code",
   "execution_count": 194,
   "metadata": {},
   "outputs": [],
   "source": [
    "#tier 1\n",
    "tier_1_not_target = pd.read_csv(\"data/big.csv\",  encoding = \"ISO-8859-1\",header=None).head(5000)\n",
    "tier_1_target = pd.read_csv(\"data/res.csv\")"
   ]
  },
  {
   "cell_type": "code",
   "execution_count": 4,
   "metadata": {},
   "outputs": [],
   "source": [
    "#tier 2\n",
    "tier_2_not_target = pd.read_csv(\"data/justsex.csv\")\n",
    "tier_2_target = pd.read_csv(\"data/res.csv\")"
   ]
  },
  {
   "cell_type": "code",
   "execution_count": 5,
   "metadata": {},
   "outputs": [],
   "source": [
    "#tier 3\n",
    "tier_3_not_target = pd.read_csv(\"data/justsex.csv\")\n",
    "tier_3_target = pd.read_csv(\"data/underage_full.csv\")"
   ]
  },
  {
   "cell_type": "code",
   "execution_count": 6,
   "metadata": {},
   "outputs": [],
   "source": [
    "#tier 4\n",
    "tier_4_not_target = tier_2_target\n",
    "tier_4_target = tier_3_target"
   ]
  },
  {
   "cell_type": "code",
   "execution_count": 7,
   "metadata": {},
   "outputs": [],
   "source": [
    "#tier 5\n",
    "\n",
    "tier_5_not_target = tier_1_not_target\n",
    "one = tier_1_target\n",
    "one['target'] = 1\n",
    "three = tier_3_target\n",
    "three['target'] = 2\n",
    "\n",
    "tier_5_target = pd.concat([one, three])"
   ]
  },
  {
   "cell_type": "markdown",
   "metadata": {},
   "source": [
    "<h2> Preprocessing </h2>"
   ]
  },
  {
   "cell_type": "code",
   "execution_count": 195,
   "metadata": {},
   "outputs": [],
   "source": [
    "###Remove all of the hashtags\n",
    "import re\n",
    "def removeHash(s):\n",
    "    ls = re.findall(r\"#(\\w+)\", str(s))\n",
    "\n",
    "    \n",
    "    for i in ls:\n",
    "        s = str(s).replace(i, \"\")\n",
    "    \n",
    "    return s\n",
    "    \n",
    "    "
   ]
  },
  {
   "cell_type": "code",
   "execution_count": 196,
   "metadata": {},
   "outputs": [],
   "source": [
    "#tier 1\n",
    "\n",
    "tier_1_not_target['target'] = 0\n",
    "tier_1_not_target['text'] = tier_1_not_target[5]\n",
    "tier_1_not_target = tier_1_not_target[['text', 'target']]"
   ]
  },
  {
   "cell_type": "code",
   "execution_count": 197,
   "metadata": {},
   "outputs": [],
   "source": [
    "tier_1_target['target'] = 1\n",
    "tier_1_target = tier_1_target[['text', 'target']]"
   ]
  },
  {
   "cell_type": "code",
   "execution_count": 198,
   "metadata": {},
   "outputs": [],
   "source": [
    "tier1 = pd.concat([tier_1_not_target, tier_1_target])"
   ]
  },
  {
   "cell_type": "code",
   "execution_count": 199,
   "metadata": {},
   "outputs": [],
   "source": [
    "tier1['text'] = tier1['text'].apply(removeHash)"
   ]
  },
  {
   "cell_type": "code",
   "execution_count": 200,
   "metadata": {},
   "outputs": [],
   "source": [
    "tier1 = tier1.fillna('missing')\n",
    "tier1 = tier1.drop_duplicates()"
   ]
  },
  {
   "cell_type": "code",
   "execution_count": 14,
   "metadata": {},
   "outputs": [
    {
     "data": {
      "text/plain": [
       "5197"
      ]
     },
     "execution_count": 14,
     "metadata": {},
     "output_type": "execute_result"
    }
   ],
   "source": [
    "len(tier_1_target)\n",
    "\n"
   ]
  },
  {
   "cell_type": "code",
   "execution_count": 15,
   "metadata": {},
   "outputs": [],
   "source": [
    "#tier 2\n",
    "\n",
    "tier_2_not_target['target'] = 0\n",
    "# tier_1_not_target['text'] = tier_1_not_target[5]\n",
    "tier_2_not_target = tier_2_not_target[['text', 'target']]\n",
    "\n",
    "tier_2_target['target'] = 1\n",
    "tier_2_target = tier_2_target[['text', 'target']]\n",
    "\n",
    "tier2 = pd.concat([tier_2_not_target, tier_2_target])\n",
    "\n",
    "tier2['text'] = tier2['text'].apply(removeHash)\n",
    "\n",
    "tier2 = tier2.fillna('missing')\n",
    "tier2 = tier2.drop_duplicates()"
   ]
  },
  {
   "cell_type": "code",
   "execution_count": 16,
   "metadata": {},
   "outputs": [],
   "source": [
    "#tier 3\n",
    "\n",
    "tier_3_not_target['target'] = 0\n",
    "# tier_1_not_target['text'] = tier_1_not_target[5]\n",
    "tier_3_not_target = tier_3_not_target[['text', 'target']]\n",
    "\n",
    "tier_3_target['target'] = 1\n",
    "tier_3_target = tier_3_target[['text', 'target']]\n",
    "\n",
    "tier3 = pd.concat([tier_3_not_target, tier_3_target])\n",
    "\n",
    "tier3['text'] = tier3['text'].apply(removeHash)\n",
    "\n",
    "tier3 = tier3.fillna('missing')\n",
    "tier3 = tier3.drop_duplicates()\n",
    "tier3 = tier3.dropna()"
   ]
  },
  {
   "cell_type": "code",
   "execution_count": 17,
   "metadata": {},
   "outputs": [
    {
     "data": {
      "text/html": [
       "<div>\n",
       "<style scoped>\n",
       "    .dataframe tbody tr th:only-of-type {\n",
       "        vertical-align: middle;\n",
       "    }\n",
       "\n",
       "    .dataframe tbody tr th {\n",
       "        vertical-align: top;\n",
       "    }\n",
       "\n",
       "    .dataframe thead th {\n",
       "        text-align: right;\n",
       "    }\n",
       "</style>\n",
       "<table border=\"1\" class=\"dataframe\">\n",
       "  <thead>\n",
       "    <tr style=\"text-align: right;\">\n",
       "      <th></th>\n",
       "      <th>text</th>\n",
       "      <th>target</th>\n",
       "    </tr>\n",
       "  </thead>\n",
       "  <tbody>\n",
       "    <tr>\n",
       "      <th>0</th>\n",
       "      <td>mickey fc fancam edit edits monday movie sebas...</td>\n",
       "      <td>0</td>\n",
       "    </tr>\n",
       "    <tr>\n",
       "      <th>1</th>\n",
       "      <td>Yes, the dark side of camming + the reality th...</td>\n",
       "      <td>0</td>\n",
       "    </tr>\n",
       "    <tr>\n",
       "      <th>2</th>\n",
       "      <td>Not seeing someone I am talking too really all...</td>\n",
       "      <td>0</td>\n",
       "    </tr>\n",
       "    <tr>\n",
       "      <th>3</th>\n",
       "      <td>@SexTalkTuesday @JaneEBoon Last season I think...</td>\n",
       "      <td>0</td>\n",
       "    </tr>\n",
       "    <tr>\n",
       "      <th>4</th>\n",
       "      <td>he looks like he would point a loaded gun at m...</td>\n",
       "      <td>0</td>\n",
       "    </tr>\n",
       "    <tr>\n",
       "      <th>...</th>\n",
       "      <td>...</td>\n",
       "      <td>...</td>\n",
       "    </tr>\n",
       "    <tr>\n",
       "      <th>5415</th>\n",
       "      <td>I need help ming # # # # # # # # # #tribute #t...</td>\n",
       "      <td>1</td>\n",
       "    </tr>\n",
       "    <tr>\n",
       "      <th>5422</th>\n",
       "      <td>Make me  for a tribute # # # # # # # # # #trib...</td>\n",
       "      <td>1</td>\n",
       "    </tr>\n",
       "    <tr>\n",
       "      <th>5423</th>\n",
       "      <td>Any  want a tribute? # # # # # # # # # #tribut...</td>\n",
       "      <td>1</td>\n",
       "    </tr>\n",
       "    <tr>\n",
       "      <th>5425</th>\n",
       "      <td>i need a girl in my dms, i need to cum in sooo...</td>\n",
       "      <td>1</td>\n",
       "    </tr>\n",
       "    <tr>\n",
       "      <th>5426</th>\n",
       "      <td>Any  need a # ? If so dm me a pic and I will c...</td>\n",
       "      <td>1</td>\n",
       "    </tr>\n",
       "  </tbody>\n",
       "</table>\n",
       "<p>5916 rows × 2 columns</p>\n",
       "</div>"
      ],
      "text/plain": [
       "                                                   text  target\n",
       "0     mickey fc fancam edit edits monday movie sebas...       0\n",
       "1     Yes, the dark side of camming + the reality th...       0\n",
       "2     Not seeing someone I am talking too really all...       0\n",
       "3     @SexTalkTuesday @JaneEBoon Last season I think...       0\n",
       "4     he looks like he would point a loaded gun at m...       0\n",
       "...                                                 ...     ...\n",
       "5415  I need help ming # # # # # # # # # #tribute #t...       1\n",
       "5422  Make me  for a tribute # # # # # # # # # #trib...       1\n",
       "5423  Any  want a tribute? # # # # # # # # # #tribut...       1\n",
       "5425  i need a girl in my dms, i need to cum in sooo...       1\n",
       "5426  Any  need a # ? If so dm me a pic and I will c...       1\n",
       "\n",
       "[5916 rows x 2 columns]"
      ]
     },
     "execution_count": 17,
     "metadata": {},
     "output_type": "execute_result"
    }
   ],
   "source": [
    "tier3[tier3.isnull() == False]"
   ]
  },
  {
   "cell_type": "code",
   "execution_count": 18,
   "metadata": {},
   "outputs": [],
   "source": [
    "#tier 4\n",
    "\n",
    "tier_4_not_target['target'] = 0\n",
    "# tier_1_not_target['text'] = tier_1_not_target[5]\n",
    "tier_4_not_target = tier_4_not_target[['text', 'target']]\n",
    "\n",
    "tier_4_target['target'] = 1\n",
    "tier_4_target = tier_4_target[['text', 'target']]\n",
    "\n",
    "tier4 = pd.concat([tier_4_not_target, tier_4_target])\n",
    "\n",
    "tier4['text'] = tier4['text'].apply(removeHash)\n",
    "\n",
    "tier4 = tier4.fillna('missing')\n",
    "tier4 = tier4.drop_duplicates()"
   ]
  },
  {
   "cell_type": "code",
   "execution_count": 19,
   "metadata": {},
   "outputs": [],
   "source": [
    "#tier 5\n",
    "\n",
    "# tier_5_not_target['target'] = 0\n",
    "# tier_5_not_target['text'] = tier_5_not_target[5]\n",
    "tier_5_not_target = tier_5_not_target[['text', 'target']]\n",
    "\n",
    "# tier_5_target['target'] = 1\n",
    "tier_5_target = tier_5_target[['text', 'target']]\n",
    "\n",
    "tier5 = pd.concat([tier_5_not_target, tier_5_target])\n",
    "\n",
    "tier5['text'] = tier5['text'].apply(removeHash)\n",
    "\n",
    "tier5 = tier5.fillna('missing')\n",
    "tier5 = tier5.drop_duplicates()"
   ]
  },
  {
   "cell_type": "markdown",
   "metadata": {},
   "source": [
    "<h2> Modeling </h2> "
   ]
  },
  {
   "cell_type": "code",
   "execution_count": 201,
   "metadata": {},
   "outputs": [],
   "source": [
    "#Tier 1\n",
    "from sklearn.model_selection import train_test_split\n",
    "from sklearn.feature_extraction.text import CountVectorizer\n",
    "from sklearn import svm\n",
    "from sklearn.metrics import accuracy_score, confusion_matrix, classification_report\n",
    "from sklearn.multiclass import OneVsRestClassifier\n",
    "\n",
    "# X captures our feature, y captures the target\n",
    "y = tier1['target']\n",
    "X = tier1.drop(columns='target')\n",
    " \n",
    "# randomly partition 20% of the data for testing\n",
    "# setting the seed guarantees that the split can be replicated\n",
    "X_train, X_test, y_train, y_test = train_test_split(X, y, test_size=0.2, random_state=70)\n",
    "\n",
    "vectorizer = CountVectorizer(token_pattern=r'\\b\\w+\\b')\n",
    "train_matrix = vectorizer.fit_transform(X_train['text'])\n",
    "test_matrix = vectorizer.transform(X_test['text'])\n"
   ]
  },
  {
   "cell_type": "code",
   "execution_count": 202,
   "metadata": {},
   "outputs": [
    {
     "name": "stdout",
     "output_type": "stream",
     "text": [
      "              precision    recall  f1-score   support\n",
      "\n",
      "           0       0.99      1.00      1.00       989\n",
      "           1       0.99      0.96      0.98       187\n",
      "\n",
      "    accuracy                           0.99      1176\n",
      "   macro avg       0.99      0.98      0.99      1176\n",
      "weighted avg       0.99      0.99      0.99      1176\n",
      "\n"
     ]
    }
   ],
   "source": [
    "regr = OneVsRestClassifier(svm.SVC(kernel='linear', probability=True))\n",
    "regr.fit(train_matrix, y_train)\n",
    "\n",
    "y_pred = regr.predict(test_matrix)\n",
    "\n",
    "# get accuracy score\n",
    "accuracy_score(y_test, y_pred)\n",
    " \n",
    "# get confusion matrix\n",
    "confusion_matrix(y_test, y_pred)\n",
    " \n",
    "# get classification_report\n",
    "print(classification_report(y_test, y_pred))\n",
    "proba = regr.predict_proba(test_matrix)"
   ]
  },
  {
   "cell_type": "code",
   "execution_count": 203,
   "metadata": {},
   "outputs": [
    {
     "data": {
      "image/png": "[encoded data removed]",
      "text/plain": [
       "<Figure size 432x288 with 1 Axes>"
      ]
     },
     "metadata": {
      "needs_background": "light"
     },
     "output_type": "display_data"
    }
   ],
   "source": [
    "# print(proba)\n",
    "# y = y_test.to_numpy().reshape(-1,1)\n",
    "\n",
    "\n",
    "d = pd.DataFrame(proba)\n",
    "y = pd.DataFrame(y_test)\n",
    "# d = d[~d.index.duplicated()]\n",
    "# y = y[~y.index.duplicated()]\n",
    "# d['target'] = y\n",
    " # df.reset_index(drop=True, inplace=True)\n",
    "# y.reset_index(drop=True, inplace=True)\n",
    "# df = pd.concat([df, y_test], axis=1)\n",
    "\n",
    "\n",
    "#tier 1 plot\n",
    "\n",
    "import numpy as np\n",
    "np.random.seed(19680801)\n",
    "import matplotlib.pyplot as plt\n",
    "\n",
    "\n",
    "fig, ax = plt.subplots()\n",
    "# for color in ['tab:blue', 'tab:orange', 'tab:green']:\n",
    "#     n = 750\n",
    "#     x, y = np.random.rand(2, n)\n",
    "#     scale = 200.0 * np.random.rand(n)\n",
    "\n",
    "yt = pd.DataFrame(y_test)\n",
    "\n",
    "for i in range(0, len(d.values)):\n",
    "#     print(i)\n",
    "\n",
    "    x = d.iloc[i, 0]\n",
    "    y = d.iloc[i, 1]\n",
    "    n = yt.iloc[i,0]\n",
    "\n",
    "    if n == 0:\n",
    "        color = \"blue\"\n",
    "    elif n == 1:\n",
    "        color = \"red\"\n",
    "    else:\n",
    "        color = \"grey\"\n",
    "    ax.scatter(x, y, c =color)\n",
    "#     ax.scatter(x, y, c=color, s=scale, label=color,\n",
    "#                alpha=0.3, edgecolors='none')\n",
    "\n",
    "handles, labels = plt.gca().get_legend_handles_labels()\n",
    "by_label = dict(zip(labels, handles))\n",
    "# plt.legend(by_label.values(), by_label.keys())\n",
    "plt.title('Experiment 6')\n",
    "\n",
    "import matplotlib.patches as mpatches\n",
    "\n",
    "# Create the figure\n",
    "red_patch = mpatches.Patch(color='red', label='Trafficking Tweet')\n",
    "blue_patch = mpatches.Patch(color='blue', label='Regular Tweet')\n",
    "plt.xlabel('Probability of Regular Tweet', fontsize=12)\n",
    "plt.ylabel('Probability of Trafficking Tweet', fontsize=12)\n",
    "plt.legend(handles=[red_patch, blue_patch])\n",
    "ax.grid(True)\n",
    "\n",
    "plt.show()\n"
   ]
  },
  {
   "cell_type": "code",
   "execution_count": 202,
   "metadata": {},
   "outputs": [
    {
     "data": {
      "text/plain": [
       "0"
      ]
     },
     "execution_count": 202,
     "metadata": {},
     "output_type": "execute_result"
    }
   ],
   "source": [
    "yt = pd.DataFrame(y_test)\n",
    "\n"
   ]
  },
  {
   "cell_type": "code",
   "execution_count": 39,
   "metadata": {},
   "outputs": [
    {
     "name": "stdout",
     "output_type": "stream",
     "text": [
      "              precision    recall  f1-score   support\n",
      "\n",
      "           0       0.96      0.99      0.98       982\n",
      "           1       0.92      0.78      0.84       166\n",
      "\n",
      "    accuracy                           0.96      1148\n",
      "   macro avg       0.94      0.89      0.91      1148\n",
      "weighted avg       0.96      0.96      0.96      1148\n",
      "\n"
     ]
    }
   ],
   "source": [
    "#tier 2\n",
    "y = tier2['target']\n",
    "X = tier2.drop(columns='target')\n",
    " \n",
    "# randomly partition 20% of the data for testing\n",
    "# setting the seed guarantees that the split can be replicated\n",
    "X_train, X_test, y_train, y_test = train_test_split(X, y, test_size=0.2, random_state=70)\n",
    "\n",
    "vectorizer = CountVectorizer(token_pattern=r'\\b\\w+\\b')\n",
    "train_matrix = vectorizer.fit_transform(X_train['text'])\n",
    "test_matrix = vectorizer.transform(X_test['text'])\n",
    "regr = OneVsRestClassifier(svm.SVC(kernel='linear', probability=True))\n",
    "regr.fit(train_matrix, y_train)\n",
    "\n",
    "y_pred = regr.predict(test_matrix)\n",
    "\n",
    "# get accuracy score\n",
    "accuracy_score(y_test, y_pred)\n",
    " \n",
    "# get confusion matrix\n",
    "confusion_matrix(y_test, y_pred)\n",
    " \n",
    "# get classification_report\n",
    "print(classification_report(y_test, y_pred))\n",
    "proba = regr.predict_proba(test_matrix)"
   ]
  },
  {
   "cell_type": "code",
   "execution_count": 41,
   "metadata": {},
   "outputs": [
    {
     "data": {
      "image/png": "[encoded data removed]",
      "text/plain": [
       "<Figure size 432x288 with 1 Axes>"
      ]
     },
     "metadata": {
      "needs_background": "light"
     },
     "output_type": "display_data"
    }
   ],
   "source": [
    "# print(proba)\n",
    "# y = y_test.to_numpy().reshape(-1,1)\n",
    "\n",
    "proba = regr.predict_proba(test_matrix)\n",
    "d = pd.DataFrame(proba)\n",
    "y = pd.DataFrame(y_test)\n",
    "# d = d[~d.index.duplicated()]\n",
    "# y = y[~y.index.duplicated()]\n",
    "# d['target'] = y\n",
    " # df.reset_index(drop=True, inplace=True)\n",
    "# y.reset_index(drop=True, inplace=True)\n",
    "# df = pd.concat([df, y_test], axis=1)\n",
    "\n",
    "\n",
    "#tier 1 plot\n",
    "\n",
    "import numpy as np\n",
    "np.random.seed(19680801)\n",
    "import matplotlib.pyplot as plt\n",
    "\n",
    "\n",
    "fig, ax = plt.subplots()\n",
    "# for color in ['tab:blue', 'tab:orange', 'tab:green']:\n",
    "#     n = 750\n",
    "#     x, y = np.random.rand(2, n)\n",
    "#     scale = 200.0 * np.random.rand(n)\n",
    "\n",
    "yt = pd.DataFrame(y_test)\n",
    "\n",
    "for i in range(0, len(d.values)):\n",
    "#     print(i)\n",
    "\n",
    "    x = d.iloc[i, 0]\n",
    "    y = d.iloc[i, 1]\n",
    "    n = yt.iloc[i,0]\n",
    "\n",
    "    if n == 0:\n",
    "        color = \"blue\"\n",
    "    elif n == 1:\n",
    "        color = \"red\"\n",
    "    else:\n",
    "        color = \"grey\"\n",
    "    ax.scatter(x, y, c =color)\n",
    "#     ax.scatter(x, y, c=color, s=scale, label=color,\n",
    "#                alpha=0.3, edgecolors='none')\n",
    "\n",
    "plt.title('Experiment 7')\n",
    "\n",
    "import matplotlib.patches as mpatches\n",
    "\n",
    "# Create the figure\n",
    "red_patch = mpatches.Patch(color='red', label='Trafficking Tweet')\n",
    "blue_patch = mpatches.Patch(color='blue', label='Sexually Explicit Tweet')\n",
    "plt.legend(handles=[red_patch, blue_patch])\n",
    "plt.xlabel('Probability of Sex Tweet', fontsize=12)\n",
    "plt.ylabel('Probability of Trafficking Tweet', fontsize=12)\n",
    "ax.grid(True)\n",
    "\n",
    "plt.show()"
   ]
  },
  {
   "cell_type": "code",
   "execution_count": 42,
   "metadata": {},
   "outputs": [
    {
     "name": "stdout",
     "output_type": "stream",
     "text": [
      "              precision    recall  f1-score   support\n",
      "\n",
      "           0       0.96      0.96      0.96       975\n",
      "           1       0.83      0.82      0.82       209\n",
      "\n",
      "    accuracy                           0.94      1184\n",
      "   macro avg       0.90      0.89      0.89      1184\n",
      "weighted avg       0.94      0.94      0.94      1184\n",
      "\n"
     ]
    }
   ],
   "source": [
    "#tier 3\n",
    "y = tier3['target']\n",
    "X = tier3.drop(columns='target')\n",
    " \n",
    "# randomly partition 20% of the data for testing\n",
    "# setting the seed guarantees that the split can be replicated\n",
    "X_train, X_test, y_train, y_test = train_test_split(X, y, test_size=0.2, random_state=70)\n",
    "\n",
    "vectorizer = CountVectorizer(token_pattern=r'\\b\\w+\\b')\n",
    "train_matrix = vectorizer.fit_transform(X_train['text'])\n",
    "test_matrix = vectorizer.transform(X_test['text'])\n",
    "regr = svm.SVC(kernel='linear')\n",
    "regr = OneVsRestClassifier(svm.SVC(kernel='linear', probability=True))\n",
    "regr.fit(train_matrix, y_train)\n",
    "\n",
    "y_pred = regr.predict(test_matrix)\n",
    "\n",
    "# get accuracy score\n",
    "accuracy_score(y_test, y_pred)\n",
    " \n",
    "# get confusion matrix\n",
    "confusion_matrix(y_test, y_pred)\n",
    " \n",
    "# get classification_report\n",
    "print(classification_report(y_test, y_pred))"
   ]
  },
  {
   "cell_type": "code",
   "execution_count": 43,
   "metadata": {},
   "outputs": [
    {
     "data": {
      "image/png": "[encoded data removed]",
      "text/plain": [
       "<Figure size 432x288 with 1 Axes>"
      ]
     },
     "metadata": {
      "needs_background": "light"
     },
     "output_type": "display_data"
    }
   ],
   "source": [
    "proba = regr.predict_proba(test_matrix)\n",
    "d = pd.DataFrame(proba)\n",
    "y = pd.DataFrame(y_test)\n",
    "# d = d[~d.index.duplicated()]\n",
    "# y = y[~y.index.duplicated()]\n",
    "# d['target'] = y\n",
    " # df.reset_index(drop=True, inplace=True)\n",
    "# y.reset_index(drop=True, inplace=True)\n",
    "# df = pd.concat([df, y_test], axis=1)\n",
    "\n",
    "\n",
    "#tier 1 plot\n",
    "\n",
    "import numpy as np\n",
    "np.random.seed(19680801)\n",
    "import matplotlib.pyplot as plt\n",
    "\n",
    "\n",
    "fig, ax = plt.subplots()\n",
    "# for color in ['tab:blue', 'tab:orange', 'tab:green']:\n",
    "#     n = 750\n",
    "#     x, y = np.random.rand(2, n)\n",
    "#     scale = 200.0 * np.random.rand(n)\n",
    "\n",
    "yt = pd.DataFrame(y_test)\n",
    "\n",
    "for i in range(0, len(d.values)):\n",
    "#     print(i)\n",
    "\n",
    "    x = d.iloc[i, 0]\n",
    "    y = d.iloc[i, 1]\n",
    "    n = yt.iloc[i,0]\n",
    "\n",
    "    if n == 0:\n",
    "        color = \"blue\"\n",
    "    elif n == 1:\n",
    "        color = \"red\"\n",
    "    else:\n",
    "        color = \"grey\"\n",
    "    ax.scatter(x, y, c =color)\n",
    "#     ax.scatter(x, y, c=color, s=scale, label=color,\n",
    "#                alpha=0.3, edgecolors='none')\n",
    "\n",
    "plt.title('Experiment 8')\n",
    "\n",
    "import matplotlib.patches as mpatches\n",
    "\n",
    "# Create the figure\n",
    "red_patch = mpatches.Patch(color='red', label='Underage Trafficking Tweet')\n",
    "blue_patch = mpatches.Patch(color='blue', label='Sexually Explicit Tweet')\n",
    "plt.legend(handles=[red_patch, blue_patch])\n",
    "plt.xlabel('Probability of Sex Tweet', fontsize=12)\n",
    "plt.ylabel('Probability of Underage Trafficking Tweet', fontsize=12)\n",
    "ax.grid(True)\n",
    "\n",
    "plt.show()"
   ]
  },
  {
   "cell_type": "code",
   "execution_count": 44,
   "metadata": {},
   "outputs": [
    {
     "name": "stdout",
     "output_type": "stream",
     "text": [
      "              precision    recall  f1-score   support\n",
      "\n",
      "           0       0.12      0.14      0.13       166\n",
      "           1       0.26      0.22      0.24       223\n",
      "\n",
      "    accuracy                           0.19       389\n",
      "   macro avg       0.19      0.18      0.19       389\n",
      "weighted avg       0.20      0.19      0.19       389\n",
      "\n"
     ]
    }
   ],
   "source": [
    "#tier 4\n",
    "y = tier4['target']\n",
    "X = tier4.drop(columns='target')\n",
    " \n",
    "# randomly partition 20% of the data for testing\n",
    "# setting the seed guarantees that the split can be replicated\n",
    "X_train, X_test, y_train, y_test = train_test_split(X, y, test_size=0.2, random_state=70)\n",
    "\n",
    "vectorizer = CountVectorizer(token_pattern=r'\\b\\w+\\b')\n",
    "train_matrix = vectorizer.fit_transform(X_train['text'])\n",
    "test_matrix = vectorizer.transform(X_test['text'])\n",
    "regr = OneVsRestClassifier(svm.SVC(kernel='linear', probability=True))\n",
    "regr.fit(train_matrix, y_train)\n",
    "\n",
    "y_pred = regr.predict(test_matrix)\n",
    "\n",
    "# get accuracy score\n",
    "accuracy_score(y_test, y_pred)\n",
    " \n",
    "# get confusion matrix\n",
    "confusion_matrix(y_test, y_pred)\n",
    " \n",
    "# get classification_report\n",
    "print(classification_report(y_test, y_pred))"
   ]
  },
  {
   "cell_type": "code",
   "execution_count": 46,
   "metadata": {},
   "outputs": [
    {
     "data": {
      "image/png": "[encoded data removed]",
      "text/plain": [
       "<Figure size 432x288 with 1 Axes>"
      ]
     },
     "metadata": {
      "needs_background": "light"
     },
     "output_type": "display_data"
    }
   ],
   "source": [
    "proba = regr.predict_proba(test_matrix)\n",
    "d = pd.DataFrame(proba)\n",
    "y = pd.DataFrame(y_test)\n",
    "# d = d[~d.index.duplicated()]\n",
    "# y = y[~y.index.duplicated()]\n",
    "# d['target'] = y\n",
    " # df.reset_index(drop=True, inplace=True)\n",
    "# y.reset_index(drop=True, inplace=True)\n",
    "# df = pd.concat([df, y_test], axis=1)\n",
    "\n",
    "\n",
    "#tier 1 plot\n",
    "\n",
    "import numpy as np\n",
    "np.random.seed(19680801)\n",
    "import matplotlib.pyplot as plt\n",
    "\n",
    "\n",
    "fig, ax = plt.subplots()\n",
    "# for color in ['tab:blue', 'tab:orange', 'tab:green']:\n",
    "#     n = 750\n",
    "#     x, y = np.random.rand(2, n)\n",
    "#     scale = 200.0 * np.random.rand(n)\n",
    "\n",
    "yt = pd.DataFrame(y_test)\n",
    "\n",
    "for i in range(0, len(d.values)):\n",
    "#     print(i)\n",
    "\n",
    "    x = d.iloc[i, 0]\n",
    "    y = d.iloc[i, 1]\n",
    "    n = yt.iloc[i,0]\n",
    "\n",
    "    if n == 0:\n",
    "        color = \"blue\"\n",
    "    elif n == 1:\n",
    "        color = \"red\"\n",
    "    else:\n",
    "        color = \"grey\"\n",
    "    ax.scatter(x, y, c =color)\n",
    "#     ax.scatter(x, y, c=color, s=scale, label=color,\n",
    "#                alpha=0.3, edgecolors='none')\n",
    "\n",
    "plt.title(\"Experiment 9\")\n",
    "red_patch = mpatches.Patch(color='red', label='Underage Trafficking Tweet')\n",
    "blue_patch = mpatches.Patch(color='blue', label='Trafficking Tweet')\n",
    "plt.legend(handles=[red_patch, blue_patch])\n",
    "plt.xlabel('Probability of Trafficking Tweet', fontsize=12)\n",
    "plt.ylabel('Probability of Underage Trafficking Tweet', fontsize=12)\n",
    "ax.grid(True)\n",
    "\n",
    "plt.show()"
   ]
  },
  {
   "cell_type": "code",
   "execution_count": 47,
   "metadata": {},
   "outputs": [
    {
     "name": "stdout",
     "output_type": "stream",
     "text": [
      "              precision    recall  f1-score   support\n",
      "\n",
      "           0       0.99      1.00      0.99       981\n",
      "           1       0.13      0.15      0.14       179\n",
      "           2       0.24      0.21      0.23       228\n",
      "\n",
      "    accuracy                           0.76      1388\n",
      "   macro avg       0.45      0.45      0.45      1388\n",
      "weighted avg       0.75      0.76      0.76      1388\n",
      "\n"
     ]
    }
   ],
   "source": [
    "#tier 5\n",
    "y = tier5['target']\n",
    "X = tier5.drop(columns='target')\n",
    " \n",
    "# randomly partition 20% of the data for testing\n",
    "# setting the seed guarantees that the split can be replicated\n",
    "X_train, X_test, y_train, y_test = train_test_split(X, y, test_size=0.2, random_state=70)\n",
    "\n",
    "vectorizer = CountVectorizer(token_pattern=r'\\b\\w+\\b')\n",
    "train_matrix = vectorizer.fit_transform(X_train['text'])\n",
    "test_matrix = vectorizer.transform(X_test['text'])\n",
    "regr = OneVsRestClassifier(svm.SVC(kernel='linear', probability=True))\n",
    "regr.fit(train_matrix, y_train)\n",
    "\n",
    "y_pred = regr.predict(test_matrix)\n",
    "\n",
    "# get accuracy score\n",
    "accuracy_score(y_test, y_pred)\n",
    " \n",
    "# get confusion matrix\n",
    "confusion_matrix(y_test, y_pred)\n",
    " \n",
    "# get classification_report\n",
    "print(classification_report(y_test, y_pred))"
   ]
  },
  {
   "cell_type": "code",
   "execution_count": 52,
   "metadata": {},
   "outputs": [
    {
     "data": {
      "image/png": "[encoded data removed]",
      "text/plain": [
       "<Figure size 432x288 with 1 Axes>"
      ]
     },
     "metadata": {
      "needs_background": "light"
     },
     "output_type": "display_data"
    }
   ],
   "source": [
    "proba = regr.predict_proba(test_matrix)\n",
    "d = pd.DataFrame(proba)\n",
    "y = pd.DataFrame(y_test)\n",
    "# d = d[~d.index.duplicated()]\n",
    "# y = y[~y.index.duplicated()]\n",
    "# d['target'] = y\n",
    " # df.reset_index(drop=True, inplace=True)\n",
    "# y.reset_index(drop=True, inplace=True)\n",
    "# df = pd.concat([df, y_test], axis=1)\n",
    "\n",
    "\n",
    "#tier 1 plot\n",
    "\n",
    "import numpy as np\n",
    "np.random.seed(19680801)\n",
    "import matplotlib.pyplot as plt\n",
    "\n",
    "\n",
    "fig, ax = plt.subplots()\n",
    "# for color in ['tab:blue', 'tab:orange', 'tab:green']:\n",
    "#     n = 750\n",
    "#     x, y = np.random.rand(2, n)\n",
    "#     scale = 200.0 * np.random.rand(n)\n",
    "\n",
    "yt = pd.DataFrame(y_test)\n",
    "ax = plt.axes(projection =\"3d\")\n",
    "\n",
    "for i in range(0, len(d.values)):\n",
    "#     print(i)\n",
    "\n",
    "    x = d.iloc[i, 0]\n",
    "    y = d.iloc[i, 1]\n",
    "    z = d.iloc[i, 2]\n",
    "    n = yt.iloc[i,0]\n",
    "\n",
    "    if n == 0:\n",
    "        color = \"blue\"\n",
    "    elif n == 1:\n",
    "        color = \"red\"\n",
    "    else:\n",
    "        color = \"grey\"\n",
    "    ax.scatter3D(x, y,z, c =color)\n",
    "#     ax.scatter(x, y, c=color, s=scale, label=color,\n",
    "#                alpha=0.3, edgecolors='none')\n",
    "\n",
    "plt.title(\"Experiment 10\")\n",
    "red_patch = mpatches.Patch(color='red', label='Underage Trafficking Tweet')\n",
    "grey_patch = mpatches.Patch(color='grey', label='Trafficking Tweet')\n",
    "blue_patch = mpatches.Patch(color='blue', label='Regular Tweet')\n",
    "plt.legend(handles=[red_patch, grey_patch, blue_patch], bbox_to_anchor=(1.5, 1))\n",
    "plt.xlabel('Probability of Trafficking Tweet', fontsize=12)\n",
    "plt.ylabel('Probability of Underage Trafficking Tweet', fontsize=12)\n",
    "# plt.zlabel('Probability of Regular Tweet')\n",
    "ax.grid(True)\n",
    "\n",
    "plt.show()"
   ]
  },
  {
   "cell_type": "code",
   "execution_count": 44,
   "metadata": {},
   "outputs": [],
   "source": [
    "tier1.to_csv(\"clean_data/tier1.csv\")"
   ]
  },
  {
   "cell_type": "code",
   "execution_count": 45,
   "metadata": {},
   "outputs": [],
   "source": [
    "tier2.to_csv(\"clean_data/tier2.csv\")"
   ]
  },
  {
   "cell_type": "code",
   "execution_count": 46,
   "metadata": {},
   "outputs": [],
   "source": [
    "tier3.to_csv(\"clean_data/tier3.csv\")"
   ]
  },
  {
   "cell_type": "code",
   "execution_count": 47,
   "metadata": {},
   "outputs": [],
   "source": [
    "tier4.to_csv(\"clean_data/tier4.csv\")"
   ]
  },
  {
   "cell_type": "markdown",
   "metadata": {},
   "source": [
    "<h2> Experiments 1 through 5 </h2>"
   ]
  },
  {
   "cell_type": "code",
   "execution_count": 170,
   "metadata": {},
   "outputs": [],
   "source": [
    "# processing algorithms\n",
    "\n",
    "sex_words = [\"anal\",\n",
    "            \"sex\",\n",
    "            \"porn\",\n",
    "            \"cum\",\n",
    "            \"pussy\",\n",
    "            \"dick\",\n",
    "            \"sex\",\n",
    "            \"erotic\",\n",
    "            \"whore\",\n",
    "            \"slut\",\n",
    "            \"onlyfans\",\n",
    "            \"only fans\",\n",
    "            \"escort\",\n",
    "            \"nudes\",\n",
    "            \"horny\",\n",
    "            \"meet up\",\n",
    "            \"swinger\",\n",
    "            \"cumslut\",\n",
    "            \"SugarDaddy\",\n",
    "            \"blowjob\",\n",
    "            \"sexy\",\n",
    "            \"porn\",\n",
    "            \"xxx\",\n",
    "            \"cumslut\",\n",
    "            \"sugardaddyneeded\",\n",
    "            \"disponible\",\n",
    "            \"massage\",\n",
    "            \"cuckold\",\n",
    "            'ass', \n",
    "             \"tits\",\n",
    "             'horny', \n",
    "             \"wet\", \n",
    "             \"of\", \n",
    "             \"onlyfans\", \n",
    "             \"sessions\", \n",
    "             \"nudes\", \n",
    "             \"snapsession\", \n",
    "             \"cashappfriday\", \n",
    "             \"cheating\", \n",
    "             \"escort\", \n",
    "             'leggings', 'Daddy', 'MorningSex',\n",
    "            'adult work',\n",
    "            'adultwork',\n",
    "            \"call girl\",\n",
    "            \"callgirl\"]\n",
    "\n",
    "###Remove all of the hashtags\n",
    "import re\n",
    "def removeHash(s):\n",
    "    ls = re.findall(r\"#(\\w+)\", str(s))\n",
    "\n",
    "    \n",
    "    for i in ls:\n",
    "        s = str(s).replace(i, \"\")\n",
    "    \n",
    "    return s\n",
    "\n",
    "\n",
    "def createULBoolean(s):\n",
    "    if s == 0 or s == \"0\":\n",
    "        return 0\n",
    "    else:\n",
    "        return 1\n",
    "    \n",
    "def createBadWordBool(s):\n",
    " \n",
    "    count = 0\n",
    "    for i in sex_words:\n",
    "        if i in str(s).lower():\n",
    "            count += 1\n",
    "    return count\n",
    "\n",
    "femalenames = pd.read_csv(\"data/census-female-names.csv\", header=None)\n",
    "fnames = femalenames[0].to_list()\n",
    "\n",
    "def findFemalNames(s):\n",
    "    \n",
    "    for name in fnames:\n",
    "        if str(name).lower() in str(s).lower():\n",
    "            return 1\n",
    "    return 0\n",
    "def url(s):\n",
    "    if 'http://' in str(s) or '.com' in str(s) or 'www.' in str(s):\n",
    "        return 1\n",
    "    else:\n",
    "        return 0\n",
    "   "
   ]
  },
  {
   "cell_type": "code",
   "execution_count": 133,
   "metadata": {},
   "outputs": [],
   "source": [
    "#tier 1\n",
    "tier_1_not_target = pd.read_csv(\"data/big.csv\",  encoding = \"ISO-8859-1\",header=None).head(5000)\n",
    "tier_1_target = pd.read_csv(\"data/res.csv\")\n",
    "\n",
    "tier_1_target = tier_1_target[['text']]\n",
    "tier_1_target['target'] = 1\n",
    "tier_1_not_target = tier_1_not_target.rename(columns={5:'text'})\n",
    "tier_1_not_target['target'] = 0\n",
    "tier_1_not_target = tier_1_not_target[['text', 'target']]"
   ]
  },
  {
   "cell_type": "code",
   "execution_count": 137,
   "metadata": {},
   "outputs": [
    {
     "data": {
      "text/html": [
       "<div>\n",
       "<style scoped>\n",
       "    .dataframe tbody tr th:only-of-type {\n",
       "        vertical-align: middle;\n",
       "    }\n",
       "\n",
       "    .dataframe tbody tr th {\n",
       "        vertical-align: top;\n",
       "    }\n",
       "\n",
       "    .dataframe thead th {\n",
       "        text-align: right;\n",
       "    }\n",
       "</style>\n",
       "<table border=\"1\" class=\"dataframe\">\n",
       "  <thead>\n",
       "    <tr style=\"text-align: right;\">\n",
       "      <th></th>\n",
       "      <th>url_bool</th>\n",
       "      <th>sexually_explicit_count</th>\n",
       "      <th>target</th>\n",
       "    </tr>\n",
       "  </thead>\n",
       "  <tbody>\n",
       "    <tr>\n",
       "      <th>0</th>\n",
       "      <td>0</td>\n",
       "      <td>0</td>\n",
       "      <td>1</td>\n",
       "    </tr>\n",
       "    <tr>\n",
       "      <th>1</th>\n",
       "      <td>0</td>\n",
       "      <td>1</td>\n",
       "      <td>1</td>\n",
       "    </tr>\n",
       "    <tr>\n",
       "      <th>2</th>\n",
       "      <td>0</td>\n",
       "      <td>2</td>\n",
       "      <td>1</td>\n",
       "    </tr>\n",
       "    <tr>\n",
       "      <th>7</th>\n",
       "      <td>0</td>\n",
       "      <td>3</td>\n",
       "      <td>1</td>\n",
       "    </tr>\n",
       "    <tr>\n",
       "      <th>4109</th>\n",
       "      <td>0</td>\n",
       "      <td>4</td>\n",
       "      <td>1</td>\n",
       "    </tr>\n",
       "  </tbody>\n",
       "</table>\n",
       "</div>"
      ],
      "text/plain": [
       "      url_bool  sexually_explicit_count  target\n",
       "0            0                        0       1\n",
       "1            0                        1       1\n",
       "2            0                        2       1\n",
       "7            0                        3       1\n",
       "4109         0                        4       1"
      ]
     },
     "execution_count": 137,
     "metadata": {},
     "output_type": "execute_result"
    }
   ],
   "source": [
    "tier1.head()"
   ]
  },
  {
   "cell_type": "code",
   "execution_count": 148,
   "metadata": {},
   "outputs": [],
   "source": [
    "tier1 = pd.concat([tier_1_target, tier_1_not_target])\n",
    "\n",
    "tier1['text'] = tier1['text'].apply(removeHash)\n",
    "tier1['url_bool'] = tier1['text'].apply(url)\n",
    "tier1['sexually_explicit_count'] = tier1['text'].apply(createBadWordBool)\n",
    "tier1['female_name_bool'] = tier1['text'].apply(findFemalNames)\n",
    "tier1 = tier1[['url_bool', 'sexually_explicit_count', 'target']]"
   ]
  },
  {
   "cell_type": "code",
   "execution_count": 169,
   "metadata": {},
   "outputs": [
    {
     "data": {
      "text/html": [
       "<div>\n",
       "<style scoped>\n",
       "    .dataframe tbody tr th:only-of-type {\n",
       "        vertical-align: middle;\n",
       "    }\n",
       "\n",
       "    .dataframe tbody tr th {\n",
       "        vertical-align: top;\n",
       "    }\n",
       "\n",
       "    .dataframe thead th {\n",
       "        text-align: right;\n",
       "    }\n",
       "</style>\n",
       "<table border=\"1\" class=\"dataframe\">\n",
       "  <thead>\n",
       "    <tr style=\"text-align: right;\">\n",
       "      <th></th>\n",
       "      <th>tweetDate</th>\n",
       "      <th>twitterId</th>\n",
       "      <th>handle</th>\n",
       "      <th>text</th>\n",
       "      <th>profileUrl</th>\n",
       "      <th>name</th>\n",
       "      <th>tweetLink</th>\n",
       "      <th>timestamp</th>\n",
       "      <th>query</th>\n",
       "    </tr>\n",
       "  </thead>\n",
       "  <tbody>\n",
       "    <tr>\n",
       "      <th>0</th>\n",
       "      <td>Mon Apr 12 17:40:07 +0000 2021</td>\n",
       "      <td>1363930221326438400</td>\n",
       "      <td>ndaxbarnesmedia</td>\n",
       "      <td>mickey fc fancam edit edits monday movie sebas...</td>\n",
       "      <td>https://twitter.com/ndaxbarnesmedia</td>\n",
       "      <td>nani media</td>\n",
       "      <td>https://twitter.com/ndaxbarnesmedia/status/138...</td>\n",
       "      <td>2021-04-21T00:42:41.951Z</td>\n",
       "      <td>https://twitter.com/search?q=sex&amp;src=typed_que...</td>\n",
       "    </tr>\n",
       "    <tr>\n",
       "      <th>1</th>\n",
       "      <td>Wed Apr 21 00:41:54 +0000 2021</td>\n",
       "      <td>1179913549</td>\n",
       "      <td>SexTalkTuesday</td>\n",
       "      <td>Yes, the dark side of camming + the reality th...</td>\n",
       "      <td>https://twitter.com/SexTalkTuesday</td>\n",
       "      <td>SexTalkTuesday</td>\n",
       "      <td>https://twitter.com/SexTalkTuesday/status/1384...</td>\n",
       "      <td>2021-04-21T00:42:41.951Z</td>\n",
       "      <td>https://twitter.com/search?q=sex&amp;src=typed_que...</td>\n",
       "    </tr>\n",
       "    <tr>\n",
       "      <th>2</th>\n",
       "      <td>Wed Apr 21 00:41:53 +0000 2021</td>\n",
       "      <td>277544357</td>\n",
       "      <td>Lipservicephone</td>\n",
       "      <td>Not seeing someone I am talking too really all...</td>\n",
       "      <td>https://twitter.com/Lipservicephone</td>\n",
       "      <td>Lip Service Phone Sex</td>\n",
       "      <td>https://twitter.com/Lipservicephone/status/138...</td>\n",
       "      <td>2021-04-21T00:42:41.951Z</td>\n",
       "      <td>https://twitter.com/search?q=sex&amp;src=typed_que...</td>\n",
       "    </tr>\n",
       "    <tr>\n",
       "      <th>3</th>\n",
       "      <td>Wed Apr 21 00:39:52 +0000 2021</td>\n",
       "      <td>833476573009416192</td>\n",
       "      <td>Sith2814</td>\n",
       "      <td>@SexTalkTuesday @JaneEBoon Last season I think...</td>\n",
       "      <td>https://twitter.com/Sith2814</td>\n",
       "      <td>▪□Kal Kent□▪</td>\n",
       "      <td>https://twitter.com/Sith2814/status/1384668169...</td>\n",
       "      <td>2021-04-21T00:42:41.951Z</td>\n",
       "      <td>https://twitter.com/search?q=sex&amp;src=typed_que...</td>\n",
       "    </tr>\n",
       "    <tr>\n",
       "      <th>4</th>\n",
       "      <td>Wed Apr 21 00:42:02 +0000 2021</td>\n",
       "      <td>1277488147249709056</td>\n",
       "      <td>lilllgoblin</td>\n",
       "      <td>he looks like he would point a loaded gun at m...</td>\n",
       "      <td>https://twitter.com/lilllgoblin</td>\n",
       "      <td>A 🍒</td>\n",
       "      <td>https://twitter.com/lilllgoblin/status/1384668...</td>\n",
       "      <td>2021-04-21T00:42:41.951Z</td>\n",
       "      <td>https://twitter.com/search?q=sex&amp;src=typed_que...</td>\n",
       "    </tr>\n",
       "  </tbody>\n",
       "</table>\n",
       "</div>"
      ],
      "text/plain": [
       "                        tweetDate            twitterId           handle  \\\n",
       "0  Mon Apr 12 17:40:07 +0000 2021  1363930221326438400  ndaxbarnesmedia   \n",
       "1  Wed Apr 21 00:41:54 +0000 2021           1179913549   SexTalkTuesday   \n",
       "2  Wed Apr 21 00:41:53 +0000 2021            277544357  Lipservicephone   \n",
       "3  Wed Apr 21 00:39:52 +0000 2021   833476573009416192         Sith2814   \n",
       "4  Wed Apr 21 00:42:02 +0000 2021  1277488147249709056      lilllgoblin   \n",
       "\n",
       "                                                text  \\\n",
       "0  mickey fc fancam edit edits monday movie sebas...   \n",
       "1  Yes, the dark side of camming + the reality th...   \n",
       "2  Not seeing someone I am talking too really all...   \n",
       "3  @SexTalkTuesday @JaneEBoon Last season I think...   \n",
       "4  he looks like he would point a loaded gun at m...   \n",
       "\n",
       "                            profileUrl                   name  \\\n",
       "0  https://twitter.com/ndaxbarnesmedia             nani media   \n",
       "1   https://twitter.com/SexTalkTuesday         SexTalkTuesday   \n",
       "2  https://twitter.com/Lipservicephone  Lip Service Phone Sex   \n",
       "3         https://twitter.com/Sith2814           ▪□Kal Kent□▪   \n",
       "4      https://twitter.com/lilllgoblin                    A 🍒   \n",
       "\n",
       "                                           tweetLink  \\\n",
       "0  https://twitter.com/ndaxbarnesmedia/status/138...   \n",
       "1  https://twitter.com/SexTalkTuesday/status/1384...   \n",
       "2  https://twitter.com/Lipservicephone/status/138...   \n",
       "3  https://twitter.com/Sith2814/status/1384668169...   \n",
       "4  https://twitter.com/lilllgoblin/status/1384668...   \n",
       "\n",
       "                  timestamp                                              query  \n",
       "0  2021-04-21T00:42:41.951Z  https://twitter.com/search?q=sex&src=typed_que...  \n",
       "1  2021-04-21T00:42:41.951Z  https://twitter.com/search?q=sex&src=typed_que...  \n",
       "2  2021-04-21T00:42:41.951Z  https://twitter.com/search?q=sex&src=typed_que...  \n",
       "3  2021-04-21T00:42:41.951Z  https://twitter.com/search?q=sex&src=typed_que...  \n",
       "4  2021-04-21T00:42:41.951Z  https://twitter.com/search?q=sex&src=typed_que...  "
      ]
     },
     "execution_count": 169,
     "metadata": {},
     "output_type": "execute_result"
    }
   ],
   "source": [
    "tier_2_not_target = pd.read_csv(\"data/justsex.csv\")\n",
    "tier_2_not_target.head()"
   ]
  },
  {
   "cell_type": "code",
   "execution_count": 171,
   "metadata": {},
   "outputs": [],
   "source": [
    "#tier 2\n",
    "tier_2_not_target = pd.read_csv(\"data/justsex.csv\")\n",
    "tier_2_target = pd.read_csv(\"data/res.csv\")\n",
    "tier_2_not_target = tier_2_not_target.fillna(0)\n",
    "tier_2_target = tier_2_target.fillna(0)\n",
    "# tier_2_not_target['url_bool'] = tier_2_not_target['url'].apply(createULBoolean)\n",
    "# tier_2_target['url_bool'] = tier_2_target['url'].apply(createULBoolean)\n",
    "\n",
    "tier_2_not_target['target'] = 0\n",
    "tier_2_target['target'] = 1\n",
    "tier2 = pd.concat([tier_2_not_target, tier_2_target])\n",
    "tier2['text'] = tier2['text'].apply(removeHash)\n",
    "tier2['sexually_explicit_count'] = tier2['text'].apply(createBadWordBool)\n",
    "tier2['female_name_bool'] = tier2['text'].apply(findFemalNames)\n",
    "tier2['url_bool'] = tier2['text'].apply(url)\n",
    "\n",
    "tier2 = tier2[['url_bool', 'sexually_explicit_count', 'target']]"
   ]
  },
  {
   "cell_type": "code",
   "execution_count": 185,
   "metadata": {},
   "outputs": [],
   "source": [
    "#tier 3\n",
    "tier_3_not_target = pd.read_csv(\"data/justsex.csv\")\n",
    "tier_3_target = pd.read_csv(\"data/underage_full.csv\")\n",
    "\n",
    "tier_3_not_target['target'] = 0\n",
    "tier_3_target['target'] = 1\n",
    "\n",
    "\n",
    "tier3 = pd.concat([tier_3_not_target, tier_3_target])\n",
    "tier3['text'] = tier3['text'].apply(removeHash)\n",
    "tier3['sexually_explicit_count'] = tier3['text'].apply(createBadWordBool)\n",
    "tier3['female_name_bool'] = tier3['text'].apply(findFemalNames)\n",
    "tier3['url_bool'] = tier3.apply(url)\n",
    "\n",
    "tier3 = tier3[['url_bool', 'sexually_explicit_count', 'target']]"
   ]
  },
  {
   "cell_type": "code",
   "execution_count": 190,
   "metadata": {},
   "outputs": [],
   "source": [
    "#tier 4\n",
    "tier_4_not_target = tier_2_target\n",
    "tier_4_not_target['target'] = 0\n",
    "tier_4_target = tier_3_target\n",
    "\n",
    "\n",
    "tier4 = pd.concat([tier_4_not_target, tier_4_target])\n",
    "tier4['text'] = tier4['text'].apply(removeHash)\n",
    "tier4['sexually_explicit_count'] = tier4['text'].apply(createBadWordBool)\n",
    "tier4['female_name_bool'] = tier4['text'].apply(findFemalNames)\n",
    "tier4['url_bool'] = tier4.apply(url)\n",
    "\n",
    "tier4 = tier4[['url_bool', 'sexually_explicit_count', 'target']]"
   ]
  },
  {
   "cell_type": "code",
   "execution_count": 192,
   "metadata": {},
   "outputs": [],
   "source": [
    "#tier 5\n",
    "\n",
    "tier_5_not_target = tier_1_not_target\n",
    "one = tier_1_target\n",
    "one['target'] = 1\n",
    "three = tier_3_target\n",
    "three['target'] = 2\n",
    "\n",
    "tier_5_target = pd.concat([one, three])\n",
    "\n",
    "tier5 = pd.concat([tier_5_not_target, tier_5_target])\n",
    "tier5['text'] = tier5['text'].apply(removeHash)\n",
    "tier5['sexually_explicit_count'] = tier5['text'].apply(createBadWordBool)\n",
    "tier5['female_name_bool'] = tier5['text'].apply(findFemalNames)\n",
    "tier5['url_bool'] = tier5.apply(url)\n",
    "\n",
    "tier5 = tier5[['url_bool', 'sexually_explicit_count', 'target']]"
   ]
  },
  {
   "cell_type": "code",
   "execution_count": 145,
   "metadata": {},
   "outputs": [],
   "source": [
    "tier1 = tier1.drop_duplicates()\n",
    "tier2 = tier2.drop_duplicates()\n",
    "tier3 = tier3.drop_duplicates()\n",
    "tier4 = tier4.drop_duplicates()\n",
    "tier5 = tier5.drop_duplicates()"
   ]
  },
  {
   "cell_type": "code",
   "execution_count": 149,
   "metadata": {},
   "outputs": [
    {
     "name": "stdout",
     "output_type": "stream",
     "text": [
      "              precision    recall  f1-score   support\n",
      "\n",
      "           0       0.78      0.23      0.35       971\n",
      "           1       0.57      0.94      0.71      1069\n",
      "\n",
      "    accuracy                           0.60      2040\n",
      "   macro avg       0.67      0.58      0.53      2040\n",
      "weighted avg       0.67      0.60      0.54      2040\n",
      "\n"
     ]
    }
   ],
   "source": [
    "\n",
    "from sklearn.model_selection import train_test_split\n",
    "\n",
    "# X captures our feature, y captures the target\n",
    "y = tier1['target']\n",
    "X = tier1.drop(columns='target')\n",
    " \n",
    "# randomly partition 20% of the data for testing\n",
    "# setting the seed guarantees that the split can be replicated\n",
    "X_train, X_test, y_train, y_test = train_test_split(X, y, test_size=0.2, random_state=1)\n",
    "\n",
    "from sklearn import svm\n",
    "regr = svm.SVC(kernel='linear')\n",
    "regr.fit(X_train, y_train)\n",
    "\n",
    "y_pred = regr.predict(X_test)\n",
    "\n",
    "# get accuracy score\n",
    "accuracy_score(y_test, y_pred)\n",
    " \n",
    "# get confusion matrix\n",
    "confusion_matrix(y_test, y_pred)\n",
    " \n",
    "# get classification_report\n",
    "print(classification_report(y_test, y_pred))\n"
   ]
  },
  {
   "cell_type": "code",
   "execution_count": 153,
   "metadata": {},
   "outputs": [
    {
     "data": {
      "image/png": "[encoded data removed]",
      "text/plain": [
       "<Figure size 432x288 with 1 Axes>"
      ]
     },
     "metadata": {
      "needs_background": "light"
     },
     "output_type": "display_data"
    }
   ],
   "source": [
    "\n",
    "y = pd.DataFrame(y_test)\n",
    "\n",
    "#tier 1 plot\n",
    "\n",
    "import numpy as np\n",
    "np.random.seed(19680801)\n",
    "import matplotlib.pyplot as plt\n",
    "\n",
    "\n",
    "fig, ax = plt.subplots()\n",
    "# for color in ['tab:blue', 'tab:orange', 'tab:green']:\n",
    "#     n = 750\n",
    "#     x, y = np.random.rand(2, n)\n",
    "#     scale = 200.0 * np.random.rand(n)\n",
    "\n",
    "yt = pd.DataFrame(y_test)\n",
    "\n",
    "for i in range(0, len(X_train)):\n",
    "#     print(i)\n",
    "\n",
    "    x = X_train.iloc[i, 0]\n",
    "    y = X_train.iloc[i, 1]\n",
    "    n = y_train.iloc[i]\n",
    "\n",
    "    if n == 0:\n",
    "        color = \"blue\"\n",
    "    elif n == 1:\n",
    "        color = \"red\"\n",
    "    else:\n",
    "        color = \"grey\"\n",
    "    ax.scatter(x, y, c =color)\n",
    "#     ax.scatter(x, y, c=color, s=scale, label=color,\n",
    "#                alpha=0.3, edgecolors='none')\n",
    "\n",
    "plt.title(\"Experiment 1\")\n",
    "red_patch = mpatches.Patch(color='red', label='Trafficking Tweet')\n",
    "blue_patch = mpatches.Patch(color='blue', label='Regular Tweet')\n",
    "plt.legend(handles=[red_patch, blue_patch])\n",
    "plt.xlabel('Url Boolean', fontsize=12)\n",
    "plt.ylabel('Sexually Explicit Word Count', fontsize=12)\n",
    "ax.grid(True)\n",
    "\n",
    "plt.show()"
   ]
  },
  {
   "cell_type": "code",
   "execution_count": 121,
   "metadata": {},
   "outputs": [
    {
     "data": {
      "text/html": [
       "<div>\n",
       "<style scoped>\n",
       "    .dataframe tbody tr th:only-of-type {\n",
       "        vertical-align: middle;\n",
       "    }\n",
       "\n",
       "    .dataframe tbody tr th {\n",
       "        vertical-align: top;\n",
       "    }\n",
       "\n",
       "    .dataframe thead th {\n",
       "        text-align: right;\n",
       "    }\n",
       "</style>\n",
       "<table border=\"1\" class=\"dataframe\">\n",
       "  <thead>\n",
       "    <tr style=\"text-align: right;\">\n",
       "      <th></th>\n",
       "      <th>url_bool</th>\n",
       "      <th>sexually_explicit_count</th>\n",
       "    </tr>\n",
       "  </thead>\n",
       "  <tbody>\n",
       "  </tbody>\n",
       "</table>\n",
       "</div>"
      ],
      "text/plain": [
       "Empty DataFrame\n",
       "Columns: [url_bool, sexually_explicit_count]\n",
       "Index: []"
      ]
     },
     "execution_count": 121,
     "metadata": {},
     "output_type": "execute_result"
    }
   ],
   "source": [
    "X_train[X_train.url_bool == 0].head()"
   ]
  },
  {
   "cell_type": "code",
   "execution_count": 172,
   "metadata": {},
   "outputs": [
    {
     "name": "stdout",
     "output_type": "stream",
     "text": [
      "              precision    recall  f1-score   support\n",
      "\n",
      "           0       0.98      0.72      0.83      1217\n",
      "           1       0.75      0.98      0.85      1023\n",
      "\n",
      "    accuracy                           0.84      2240\n",
      "   macro avg       0.86      0.85      0.84      2240\n",
      "weighted avg       0.87      0.84      0.84      2240\n",
      "\n"
     ]
    }
   ],
   "source": [
    "from sklearn.model_selection import train_test_split\n",
    "\n",
    "# X captures our feature, y captures the target\n",
    "tier2 = tier2.fillna(0)\n",
    "y = tier2['target']\n",
    "X = tier2.drop(columns='target')\n",
    " \n",
    "# randomly partition 20% of the data for testing\n",
    "# setting the seed guarantees that the split can be replicated\n",
    "X_train, X_test, y_train, y_test = train_test_split(X, y, test_size=0.2, random_state=1)\n",
    "\n",
    "from sklearn import svm\n",
    "regr = svm.SVC(kernel='linear')\n",
    "regr.fit(X_train, y_train)\n",
    "\n",
    "y_pred = regr.predict(X_test)\n",
    "\n",
    "# get accuracy score\n",
    "accuracy_score(y_test, y_pred)\n",
    " \n",
    "# get confusion matrix\n",
    "confusion_matrix(y_test, y_pred)\n",
    " \n",
    "# get classification_report\n",
    "print(classification_report(y_test, y_pred))"
   ]
  },
  {
   "cell_type": "code",
   "execution_count": 180,
   "metadata": {},
   "outputs": [
    {
     "data": {
      "image/png": "[encoded data removed]",
      "text/plain": [
       "<Figure size 432x288 with 1 Axes>"
      ]
     },
     "metadata": {
      "needs_background": "light"
     },
     "output_type": "display_data"
    }
   ],
   "source": [
    "y = pd.DataFrame(y_test)\n",
    "\n",
    "#tier 1 plot\n",
    "\n",
    "import numpy as np\n",
    "np.random.seed(19680801)\n",
    "import matplotlib.pyplot as plt\n",
    "\n",
    "\n",
    "fig, ax = plt.subplots()\n",
    "# for color in ['tab:blue', 'tab:orange', 'tab:green']:\n",
    "#     n = 750\n",
    "#     x, y = np.random.rand(2, n)\n",
    "#     scale = 200.0 * np.random.rand(n)\n",
    "\n",
    "yt = pd.DataFrame(y_test)\n",
    "\n",
    "for i in range(0, len(X_train)):\n",
    "#     print(i)\n",
    "\n",
    "    x = X_train.iloc[i, 0]\n",
    "\n",
    "    y = X_train.iloc[i, 1]\n",
    "    n = y_train.iloc[i]\n",
    "\n",
    "    if n == 0:\n",
    "        color = \"blue\"\n",
    "    elif n == 1:\n",
    "        color = \"red\"\n",
    "    else:\n",
    "        color = \"grey\"\n",
    "    ax.scatter(x, y, c =color)\n",
    "#     ax.scatter(x, y, c=color, s=scale, label=color,\n",
    "#                alpha=0.3, edgecolors='none')\n",
    "\n",
    "plt.title(\"Experiment 2\")\n",
    "red_patch = mpatches.Patch(color='red', label='Trafficking Tweet')\n",
    "blue_patch = mpatches.Patch(color='blue', label='Sexually Explicit Tweets')\n",
    "plt.legend(handles=[red_patch, blue_patch])\n",
    "plt.xlabel('Url Boolean', fontsize=12)\n",
    "plt.ylabel('Sexually Explicit Word Count', fontsize=12)\n",
    "ax.grid(True)\n",
    "\n",
    "plt.show()"
   ]
  },
  {
   "cell_type": "code",
   "execution_count": 181,
   "metadata": {},
   "outputs": [
    {
     "name": "stdout",
     "output_type": "stream",
     "text": [
      "              precision    recall  f1-score   support\n",
      "\n",
      "           0       0.95      0.72      0.82      1233\n",
      "           1       0.76      0.95      0.85      1132\n",
      "\n",
      "    accuracy                           0.83      2365\n",
      "   macro avg       0.85      0.84      0.83      2365\n",
      "weighted avg       0.86      0.83      0.83      2365\n",
      "\n"
     ]
    }
   ],
   "source": [
    "from sklearn.model_selection import train_test_split\n",
    "\n",
    "# X captures our feature, y captures the target\n",
    "tier3 = tier3.fillna(0)\n",
    "y = tier3['target']\n",
    "X = tier3.drop(columns='target')\n",
    " \n",
    "# randomly partition 20% of the data for testing\n",
    "# setting the seed guarantees that the split can be replicated\n",
    "X_train, X_test, y_train, y_test = train_test_split(X, y, test_size=0.2, random_state=1)\n",
    "\n",
    "from sklearn import svm\n",
    "regr = svm.SVC(kernel='linear')\n",
    "regr.fit(X_train, y_train)\n",
    "\n",
    "y_pred = regr.predict(X_test)\n",
    "\n",
    "# get accuracy score\n",
    "accuracy_score(y_test, y_pred)\n",
    " \n",
    "# get confusion matrix\n",
    "confusion_matrix(y_test, y_pred)\n",
    " \n",
    "# get classification_report\n",
    "print(classification_report(y_test, y_pred))"
   ]
  },
  {
   "cell_type": "code",
   "execution_count": 184,
   "metadata": {},
   "outputs": [
    {
     "data": {
      "image/png": "[encoded data removed]",
      "text/plain": [
       "<Figure size 432x288 with 1 Axes>"
      ]
     },
     "metadata": {
      "needs_background": "light"
     },
     "output_type": "display_data"
    }
   ],
   "source": [
    "y = pd.DataFrame(y_test)\n",
    "\n",
    "#tier 1 plot\n",
    "\n",
    "import numpy as np\n",
    "np.random.seed(19680801)\n",
    "import matplotlib.pyplot as plt\n",
    "\n",
    "\n",
    "fig, ax = plt.subplots()\n",
    "# for color in ['tab:blue', 'tab:orange', 'tab:green']:\n",
    "#     n = 750\n",
    "#     x, y = np.random.rand(2, n)\n",
    "#     scale = 200.0 * np.random.rand(n)\n",
    "\n",
    "yt = pd.DataFrame(y_test)\n",
    "\n",
    "for i in range(0, len(X_train)):\n",
    "#     print(i)\n",
    "\n",
    "    x = X_train.iloc[i, 0]\n",
    "\n",
    "    y = X_train.iloc[i, 1]\n",
    "    n = y_train.iloc[i]\n",
    "\n",
    "    if n == 0:\n",
    "        color = \"blue\"\n",
    "    elif n == 1:\n",
    "        color = \"red\"\n",
    "    else:\n",
    "        color = \"grey\"\n",
    "    ax.scatter(x, y, c =color)\n",
    "#     ax.scatter(x, y, c=color, s=scale, label=color,\n",
    "#                alpha=0.3, edgecolors='none')\n",
    "\n",
    "plt.title(\"Experiment 3\")\n",
    "red_patch = mpatches.Patch(color='red', label='Underage Trafficking Tweets')\n",
    "blue_patch = mpatches.Patch(color='blue', label='Sexually Explicit Tweets')\n",
    "plt.legend(handles=[red_patch, blue_patch])\n",
    "plt.xlabel('Url Boolean', fontsize=12)\n",
    "plt.ylabel('Sexually Explicit Word Count', fontsize=12)\n",
    "ax.grid(True)\n",
    "\n",
    "plt.show()"
   ]
  },
  {
   "cell_type": "code",
   "execution_count": 191,
   "metadata": {},
   "outputs": [
    {
     "name": "stdout",
     "output_type": "stream",
     "text": [
      "              precision    recall  f1-score   support\n",
      "\n",
      "           0       0.00      0.00      0.00      1036\n",
      "           1       0.53      1.00      0.69      1169\n",
      "\n",
      "    accuracy                           0.53      2205\n",
      "   macro avg       0.27      0.50      0.35      2205\n",
      "weighted avg       0.28      0.53      0.37      2205\n",
      "\n"
     ]
    },
    {
     "name": "stderr",
     "output_type": "stream",
     "text": [
      "/opt/anaconda3/lib/python3.8/site-packages/sklearn/metrics/_classification.py:1221: UndefinedMetricWarning: Precision and F-score are ill-defined and being set to 0.0 in labels with no predicted samples. Use `zero_division` parameter to control this behavior.\n",
      "  _warn_prf(average, modifier, msg_start, len(result))\n"
     ]
    }
   ],
   "source": [
    "from sklearn.model_selection import train_test_split\n",
    "\n",
    "# X captures our feature, y captures the target\n",
    "tier4 = tier4.fillna(0)\n",
    "y = tier4['target']\n",
    "X = tier4.drop(columns='target')\n",
    " \n",
    "# randomly partition 20% of the data for testing\n",
    "# setting the seed guarantees that the split can be replicated\n",
    "X_train, X_test, y_train, y_test = train_test_split(X, y, test_size=0.2, random_state=1)\n",
    "\n",
    "from sklearn import svm\n",
    "regr = svm.SVC(kernel='linear')\n",
    "regr.fit(X_train, y_train)\n",
    "\n",
    "y_pred = regr.predict(X_test)\n",
    "\n",
    "# get accuracy score\n",
    "accuracy_score(y_test, y_pred)\n",
    " \n",
    "# get confusion matrix\n",
    "confusion_matrix(y_test, y_pred)\n",
    " \n",
    "# get classification_report\n",
    "print(classification_report(y_test, y_pred))"
   ]
  },
  {
   "cell_type": "code",
   "execution_count": null,
   "metadata": {},
   "outputs": [],
   "source": [
    "y = pd.DataFrame(y_test)\n",
    "\n",
    "#tier 1 plot\n",
    "\n",
    "import numpy as np\n",
    "np.random.seed(19680801)\n",
    "import matplotlib.pyplot as plt\n",
    "\n",
    "\n",
    "fig, ax = plt.subplots()\n",
    "# for color in ['tab:blue', 'tab:orange', 'tab:green']:\n",
    "#     n = 750\n",
    "#     x, y = np.random.rand(2, n)\n",
    "#     scale = 200.0 * np.random.rand(n)\n",
    "\n",
    "yt = pd.DataFrame(y_test)\n",
    "\n",
    "for i in range(0, len(X_train)):\n",
    "#     print(i)\n",
    "\n",
    "    x = X_train.iloc[i, 0]\n",
    "\n",
    "    y = X_train.iloc[i, 1]\n",
    "    n = y_train.iloc[i]\n",
    "\n",
    "    if n == 0:\n",
    "        color = \"blue\"\n",
    "    elif n == 1:\n",
    "        color = \"red\"\n",
    "    else:\n",
    "        color = \"grey\"\n",
    "    ax.scatter(x, y, c =color)\n",
    "#     ax.scatter(x, y, c=color, s=scale, label=color,\n",
    "#                alpha=0.3, edgecolors='none')\n",
    "\n",
    "plt.title(\"Experiment 4\")\n",
    "red_patch = mpatches.Patch(color='red', label='Underage Trafficking Tweets')\n",
    "blue_patch = mpatches.Patch(color='blue', label='Trafficking Tweets')\n",
    "plt.legend(handles=[red_patch, blue_patch])\n",
    "plt.xlabel('Url Boolean', fontsize=12)\n",
    "plt.ylabel('Sexually Explicit Word Count', fontsize=12)\n",
    "ax.grid(True)\n",
    "\n",
    "plt.show()"
   ]
  },
  {
   "cell_type": "code",
   "execution_count": 193,
   "metadata": {},
   "outputs": [
    {
     "name": "stdout",
     "output_type": "stream",
     "text": [
      "              precision    recall  f1-score   support\n",
      "\n",
      "           0       0.53      0.19      0.28      1001\n",
      "           1       0.00      0.00      0.00      1017\n",
      "           2       0.38      0.91      0.53      1187\n",
      "\n",
      "    accuracy                           0.40      3205\n",
      "   macro avg       0.30      0.37      0.27      3205\n",
      "weighted avg       0.31      0.40      0.29      3205\n",
      "\n"
     ]
    },
    {
     "name": "stderr",
     "output_type": "stream",
     "text": [
      "/opt/anaconda3/lib/python3.8/site-packages/sklearn/metrics/_classification.py:1221: UndefinedMetricWarning: Precision and F-score are ill-defined and being set to 0.0 in labels with no predicted samples. Use `zero_division` parameter to control this behavior.\n",
      "  _warn_prf(average, modifier, msg_start, len(result))\n"
     ]
    }
   ],
   "source": [
    "from sklearn.model_selection import train_test_split\n",
    "\n",
    "# X captures our feature, y captures the target\n",
    "tier5 = tier5.fillna(0)\n",
    "y = tier5['target']\n",
    "X = tier5.drop(columns='target')\n",
    " \n",
    "# randomly partition 20% of the data for testing\n",
    "# setting the seed guarantees that the split can be replicated\n",
    "X_train, X_test, y_train, y_test = train_test_split(X, y, test_size=0.2, random_state=1)\n",
    "\n",
    "from sklearn import svm\n",
    "regr = svm.SVC(kernel='linear')\n",
    "regr.fit(X_train, y_train)\n",
    "\n",
    "y_pred = regr.predict(X_test)\n",
    "\n",
    "# get accuracy score\n",
    "accuracy_score(y_test, y_pred)\n",
    " \n",
    "# get confusion matrix\n",
    "confusion_matrix(y_test, y_pred)\n",
    " \n",
    "# get classification_report\n",
    "print(classification_report(y_test, y_pred))"
   ]
  },
  {
   "cell_type": "code",
   "execution_count": null,
   "metadata": {},
   "outputs": [],
   "source": [
    ".52"
   ]
  }
 ],
 "metadata": {
  "kernelspec": {
   "display_name": "Python 3",
   "language": "python",
   "name": "python3"
  },
  "language_info": {
   "codemirror_mode": {
    "name": "ipython",
    "version": 3
   },
   "file_extension": ".py",
   "mimetype": "text/x-python",
   "name": "python",
   "nbconvert_exporter": "python",
   "pygments_lexer": "ipython3",
   "version": "3.8.3"
  }
 },
 "nbformat": 4,
 "nbformat_minor": 4
}
